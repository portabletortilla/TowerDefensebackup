{
 "cells": [
  {
   "cell_type": "code",
   "execution_count": 9,
   "id": "9bdd7bb1-ca97-479b-89c8-c0bf7d295acc",
   "metadata": {},
   "outputs": [],
   "source": [
    "from nsga2.problem import Problem\n",
    "from nsga2.evolution import Evolution\n",
    "import matplotlib.pyplot as plt\n",
    "import random"
   ]
  },
  {
   "cell_type": "markdown",
   "id": "1a1d5c1d-73b2-464f-8695-4386100aeaa4",
   "metadata": {},
   "source": [
    "Example of how it runs"
   ]
  },
  {
   "cell_type": "code",
   "execution_count": null,
   "id": "dd866805-7ca6-4caf-b834-8a6fd13cdee5",
   "metadata": {},
   "outputs": [],
   "source": [
    "\n",
    "def f1(x):\n",
    "    return x ** 2\n",
    "\n",
    "\n",
    "def f2(x):\n",
    "    return (x - 2) ** 2\n",
    "\n",
    "\n",
    "problem = Problem(num_of_variables=1, objectives=[f1, f2], variables_range=[(-55, 55)])\n",
    "evo = Evolution(problem)\n",
    "evol = evo.evolve()\n",
    "func = [i.objectives for i in evol]\n",
    "\n",
    "function1 = [i[0] for i in func]\n",
    "function2 = [i[1] for i in func]\n",
    "plt.xlabel('Function 1', fontsize=15)\n",
    "plt.ylabel('Function 2', fontsize=15)\n",
    "plt.scatter(function1, function2)\n",
    "plt.show()\n"
   ]
  },
  {
   "cell_type": "markdown",
   "id": "12100331-3aa2-4e58-8ca5-73cc51f4ddb4",
   "metadata": {},
   "source": [
    "List Order is [wind,fire,water elect]"
   ]
  },
  {
   "cell_type": "code",
   "execution_count": 4,
   "id": "9cfd0575-83df-477b-ae7a-2420d51a3109",
   "metadata": {},
   "outputs": [],
   "source": [
    "wPrice= 50\n",
    "wUp=25\n",
    "fPrice=100\n",
    "fUp=50\n",
    "wtPrice=150\n",
    "wtUp=75\n",
    "ePrice=120 \n",
    "eUp=60"
   ]
  },
  {
   "cell_type": "code",
   "execution_count": 7,
   "id": "51da069e-3dc7-407a-baa3-867be3ee828a",
   "metadata": {},
   "outputs": [],
   "source": [
    "priceTable= [(wPrice,wUp,\"Wind Tower\"),(fPrice,fUp,\"Fire Tower\"),(wtPrice,wtUp,\"Water Tower\"),(ePrice,eUp,\"Elec Tower\")]"
   ]
  },
  {
   "cell_type": "markdown",
   "id": "6a68671d-812d-4814-bf91-4b8b1c4cb747",
   "metadata": {},
   "source": [
    "Base Template for spent values"
   ]
  },
  {
   "cell_type": "markdown",
   "id": "ddab42ad-ae6f-40f1-a269-4f763e3c248f",
   "metadata": {},
   "source": [
    "Assume price and upgrades for towers are fixed for each type:\n",
    "\n",
    "Wind :: 50  Up :: 25 <br>\n",
    "Fire :: 100 Up :: 50  <br>\n",
    "Water :: 150 Up :: 75  <br>\n",
    "Elec :: 120 Up :: 60  <br>\n",
    "\n"
   ]
  },
  {
   "cell_type": "code",
   "execution_count": 219,
   "id": "5a6d9a9e-02f2-4e2f-adaf-863ca37f4235",
   "metadata": {},
   "outputs": [],
   "source": [
    "def spendCurrencyBudget(budget,priceTable,minPercent=0.05):\n",
    "    result = []\n",
    "    aux = 3\n",
    "    strikes=0\n",
    "    minValue= budget*minPercent\n",
    "    while(budget>=minValue) and strikes<3:\n",
    "        i = random.randrange(aux)\n",
    "        if i <= 3:\n",
    "            if budget>=(priceTable[i][0]):\n",
    "                result.append(list(priceTable[i]))\n",
    "                budget -= priceTable[i][0]\n",
    "                aux += 1\n",
    "            else:\n",
    "                strikes +=1\n",
    "        else: \n",
    "            cTU = result[i-4]\n",
    "            if budget>= (cTU[1] ):\n",
    "                #print(cTU)\n",
    "                cTU[0] = cTU[0] + cTU[1]\n",
    "                budget -= cTU[1]\n",
    "                cTU[1]= cTU[1]*1.5\n",
    "            else:\n",
    "                strikes +=1\n",
    "    print(\"Remaining Budget:\" + str(budget) +\" and with \"+ str(3-strikes) +\" strikes left\")           \n",
    "    return result            "
   ]
  },
  {
   "cell_type": "code",
   "execution_count": 220,
   "id": "841819f4-01d5-470b-ad9b-e126b88c46d7",
   "metadata": {},
   "outputs": [],
   "source": [
    "def getTowerInvestments(investments):\n",
    "    result = {\n",
    "        \"Wind Tower\":0,\n",
    "        \"Fire Tower\":0,\n",
    "        \"Water Tower\":0,\n",
    "        \"Elec Tower\":0,\n",
    "    }\n",
    "    for payment in investments:\n",
    "        result[payment[2]] += payment[0]\n",
    "\n",
    "    return list(result.values())    "
   ]
  },
  {
   "cell_type": "code",
   "execution_count": 236,
   "id": "e4261477-ef1a-48e3-959f-9867c68372c3",
   "metadata": {},
   "outputs": [
    {
     "name": "stdout",
     "output_type": "stream",
     "text": [
      "Remaining Budget:50.0 and with 3 strikes left\n"
     ]
    }
   ],
   "source": [
    "investments = spendCurrencyBudget(2000,priceTable)"
   ]
  },
  {
   "cell_type": "code",
   "execution_count": 237,
   "id": "d536a0f8-af1a-4c94-b9e9-f8bc32ec7dae",
   "metadata": {},
   "outputs": [
    {
     "name": "stdout",
     "output_type": "stream",
     "text": [
      "[125, 100, 900.0, 825.0]\n"
     ]
    }
   ],
   "source": [
    "print(getTowerInvestments(investments))"
   ]
  },
  {
   "cell_type": "markdown",
   "id": "f7fb40df-021b-42b2-9a24-b3abc1fd4163",
   "metadata": {},
   "source": [
    "## Template Investments"
   ]
  },
  {
   "cell_type": "code",
   "execution_count": null,
   "id": "19144ec7-49ca-4712-ae4f-a9e6abd075f7",
   "metadata": {},
   "outputs": [],
   "source": [
    "list1 = [300,200,0,0]"
   ]
  }
 ],
 "metadata": {
  "kernelspec": {
   "display_name": "Python 3 (ipykernel)",
   "language": "python",
   "name": "python3"
  },
  "language_info": {
   "codemirror_mode": {
    "name": "ipython",
    "version": 3
   },
   "file_extension": ".py",
   "mimetype": "text/x-python",
   "name": "python",
   "nbconvert_exporter": "python",
   "pygments_lexer": "ipython3",
   "version": "3.11.7"
  }
 },
 "nbformat": 4,
 "nbformat_minor": 5
}
